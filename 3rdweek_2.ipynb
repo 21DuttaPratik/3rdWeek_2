{
  "nbformat": 4,
  "nbformat_minor": 0,
  "metadata": {
    "colab": {
      "provenance": []
    },
    "kernelspec": {
      "name": "python3",
      "display_name": "Python 3"
    },
    "language_info": {
      "name": "python"
    }
  },
  "cells": [
    {
      "cell_type": "code",
      "execution_count": 1,
      "metadata": {
        "colab": {
          "base_uri": "https://localhost:8080/"
        },
        "id": "9nqIaKaIcXvf",
        "outputId": "bb0296b5-3bf7-4efb-c090-761721460c31"
      },
      "outputs": [
        {
          "output_type": "stream",
          "name": "stdout",
          "text": [
            "Sorted list of tuples based on integer value:\n",
            "('Virat Kohli', 24936)\n",
            "('Jack Kallis', 25534)\n",
            "('Ricky Ponting', 27483)\n",
            "('Sachin Tendulkar', 34357)\n"
          ]
        }
      ],
      "source": [
        "# Q1>\n",
        "data = [('Sachin Tendulkar', 34357), ('Ricky Ponting', 27483), ('Jack Kallis', 25534), ('Virat Kohli', 24936)]\n",
        "\n",
        "sorted_data = sorted(data, key=lambda x: x[1])\n",
        "\n",
        "print(\"Sorted list of tuples based on integer value:\")\n",
        "for item in sorted_data:\n",
        "    print(item)\n"
      ]
    },
    {
      "cell_type": "code",
      "source": [
        "# Q2. Write a Python Program to find the squares of all the numbers in the given list of integers using lambda and map functions.\n",
        "numbers = [1, 2, 3, 4, 5, 6, 7, 8, 9, 10]\n",
        "squares = list(map(lambda x: x**2, numbers))\n",
        "print(\"Squares of the numbers in the list:\")\n",
        "print(squares)\n"
      ],
      "metadata": {
        "colab": {
          "base_uri": "https://localhost:8080/"
        },
        "id": "ImpSrnTFceNK",
        "outputId": "9d9c0680-7773-4ac4-ac89-82859be8539c"
      },
      "execution_count": 3,
      "outputs": [
        {
          "output_type": "stream",
          "name": "stdout",
          "text": [
            "Squares of the numbers in the list:\n",
            "[1, 4, 9, 16, 25, 36, 49, 64, 81, 100]\n"
          ]
        }
      ]
    },
    {
      "cell_type": "code",
      "source": [
        "# Q3>\n",
        "numbers = [1, 2, 3, 4, 5, 6, 7, 8, 9, 10]\n",
        "tuple_of_strings = tuple(map(lambda x: str(x), numbers))\n",
        "print(\"Tuple of strings:\")\n",
        "print(tuple_of_strings)\n"
      ],
      "metadata": {
        "colab": {
          "base_uri": "https://localhost:8080/"
        },
        "id": "U1zAcqZudWWg",
        "outputId": "b13702b1-8733-4ed3-defd-c4b8f266fc89"
      },
      "execution_count": 4,
      "outputs": [
        {
          "output_type": "stream",
          "name": "stdout",
          "text": [
            "Tuple of strings:\n",
            "('1', '2', '3', '4', '5', '6', '7', '8', '9', '10')\n"
          ]
        }
      ]
    },
    {
      "cell_type": "code",
      "source": [
        "# Q4.\n",
        "from functools import reduce\n",
        "import operator\n",
        "numbers = list(range(1, 26))\n",
        "product = reduce(operator.mul, numbers)\n",
        "print(\"Product of numbers from 1 to 25:\", product)\n"
      ],
      "metadata": {
        "colab": {
          "base_uri": "https://localhost:8080/"
        },
        "id": "GTanFacKdcSH",
        "outputId": "e9c05c10-d0e5-4033-b6d6-f416d6481a1b"
      },
      "execution_count": 5,
      "outputs": [
        {
          "output_type": "stream",
          "name": "stdout",
          "text": [
            "Product of numbers from 1 to 25: 15511210043330985984000000\n"
          ]
        }
      ]
    },
    {
      "cell_type": "code",
      "source": [
        "# Q5.\n",
        "numbers = [2, 3, 6, 9, 27, 60, 90, 120, 55, 46]\n",
        "filtered_numbers = list(filter(lambda x: x % 2 == 0 and x % 3 == 0, numbers))\n",
        "print(\"Numbers divisible by 2 and 3:\")\n",
        "print(filtered_numbers)\n"
      ],
      "metadata": {
        "colab": {
          "base_uri": "https://localhost:8080/"
        },
        "id": "CiKp4Uc2dttq",
        "outputId": "0bc146f3-562a-4fe9-c7e3-fbeffffd820b"
      },
      "execution_count": 6,
      "outputs": [
        {
          "output_type": "stream",
          "name": "stdout",
          "text": [
            "Numbers divisible by 2 and 3:\n",
            "[6, 60, 90, 120]\n"
          ]
        }
      ]
    },
    {
      "cell_type": "code",
      "source": [
        "#  Q6.\n",
        "strings = ['python', 'php', 'aba', 'radar', 'level']\n",
        "palindromes = list(filter(lambda x: x == x[::-1], strings))\n",
        "print(\"Palindromes in the list:\")\n",
        "print(palindromes)\n"
      ],
      "metadata": {
        "colab": {
          "base_uri": "https://localhost:8080/"
        },
        "id": "qoNafiyVd_Sk",
        "outputId": "b6b98fbc-439a-41d4-be8f-f7d2c9e7a6d6"
      },
      "execution_count": 7,
      "outputs": [
        {
          "output_type": "stream",
          "name": "stdout",
          "text": [
            "Palindromes in the list:\n",
            "['php', 'aba', 'radar', 'level']\n"
          ]
        }
      ]
    },
    {
      "cell_type": "code",
      "source": [],
      "metadata": {
        "id": "E_QeIFF9eP33"
      },
      "execution_count": null,
      "outputs": []
    }
  ]
}